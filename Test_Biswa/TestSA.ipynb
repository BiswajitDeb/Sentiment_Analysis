{
 "cells": [
  {
   "cell_type": "code",
   "execution_count": 8,
   "metadata": {},
   "outputs": [
    {
     "name": "stdout",
     "output_type": "stream",
     "text": [
      "Hello, it's Biswa here.\n",
      "hello, it's biswa here.\n",
      "hello its biswa here\n"
     ]
    }
   ],
   "source": [
    "import string\n",
    "#print(string.punctuation)\n",
    "text=open('dataset.txt',encoding='utf-8').read()\n",
    "print(text)\n",
    "#make all the contents inside lower case \n",
    "lower_case=text.lower()\n",
    "print(lower_case)\n",
    "punc_removed=lower_case.translate(str.maketrans('','',string.punctuation))\n",
    "print(punc_removed)"
   ]
  }
 ],
 "metadata": {
  "kernelspec": {
   "display_name": "Python 3",
   "language": "python",
   "name": "python3"
  },
  "language_info": {
   "codemirror_mode": {
    "name": "ipython",
    "version": 3
   },
   "file_extension": ".py",
   "mimetype": "text/x-python",
   "name": "python",
   "nbconvert_exporter": "python",
   "pygments_lexer": "ipython3",
   "version": "3.11.1 (tags/v3.11.1:a7a450f, Dec  6 2022, 19:58:39) [MSC v.1934 64 bit (AMD64)]"
  },
  "vscode": {
   "interpreter": {
    "hash": "95c761c754682e02f9527812d2c4395ffc75eb196c6c17be20ed58c164402910"
   }
  }
 },
 "nbformat": 4,
 "nbformat_minor": 5
}
