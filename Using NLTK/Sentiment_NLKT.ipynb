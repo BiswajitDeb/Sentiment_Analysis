{
 "cells": [
  {
   "cell_type": "code",
   "execution_count": 5,
   "metadata": {},
   "outputs": [
    {
     "name": "stdout",
     "output_type": "stream",
     "text": [
      "You gotta study well, and I am with you always. Just stay happy and at the best of your health. \n",
      "I promise over everything, I am always going to be with you, no matter what, I can wait all my life just for you and I mean it. It seems I maybe exaggerating, but who else I am gonna say all these if not you. I just want you and no-one else. \n",
      "The emotions present in the reviews are : \n",
      "[' happy']\n",
      "Counter({' happy': 1})\n",
      "The sentiment is 13.200000000000001% Positive\n"
     ]
    },
    {
     "data": {
      "image/png": "[encoded data removed]",
      "text/plain": [
       "<Figure size 640x480 with 1 Axes>"
      ]
     },
     "metadata": {},
     "output_type": "display_data"
    }
   ],
   "source": [
    "import string\n",
    "from collections import Counter\n",
    "import matplotlib.pyplot as plt\n",
    "from nltk.tokenize import word_tokenize\n",
    "from nltk.corpus import stopwords\n",
    "from nltk.sentiment.vader import SentimentIntensityAnalyzer\n",
    "#print(string.punctuation)\n",
    "text=open('user_input.txt',encoding='utf-8').read()\n",
    "print(text)\n",
    "lower_case=text.lower()\n",
    "punc_removed=lower_case.translate(str.maketrans('','',string.punctuation))\n",
    "#Tokenizing sentences\n",
    "tokenized_words=word_tokenize(punc_removed,\"english\")\n",
    "#print(tokenized_words)\n",
    "\n",
    "final_words=[]\n",
    "for i in tokenized_words:\n",
    "    if i not in stopwords.words('english'):\n",
    "        final_words.append(i)\n",
    "#print(final_words)\n",
    "\n",
    "#emotion anal\n",
    "emotion_present=[]\n",
    "\n",
    "with open('emotions.txt','r') as file: \n",
    "    for line in file:\n",
    "        clear_line = line.replace('\\n','').replace(',','').replace(\"'\",'').strip()\n",
    "        word, emotion = clear_line.split(':')\n",
    "        #print(\"Word : \"+ word + \"\" + \"Emotion : \" + emotion)\n",
    "        #print(clear_line)\n",
    "        if word in final_words:\n",
    "            emotion_present.append(emotion)\n",
    "\n",
    "print(\"The emotions present in the reviews are : \")\n",
    "print(emotion_present)\n",
    "w=Counter(emotion_present)\n",
    "print(w)\n",
    "\n",
    "def sentiment_anal(sentiment_text):\n",
    "    score=SentimentIntensityAnalyzer().polarity_scores(sentiment_text)\n",
    "    #storing the scores of th emotiones present in the text\n",
    "    neg = score['neg']*100\n",
    "    pos = score['pos']*100\n",
    "    neu = score['neu']*100\n",
    "    if neg>pos:\n",
    "        print(\"the sentiment is \"+ str(neg) + \"% Negative\")\n",
    "    elif pos>neg:\n",
    "        print(\"The sentiment is \"+ str(pos) + \"% Positive\")\n",
    "    else:\n",
    "        print(\"The text is \"+ str(neu) +\"% Neutral\")\n",
    "    #print(score)\n",
    "#calling the sentiment score \n",
    "sentiment_anal(punc_removed)\n",
    "#graph without auto adjustment\n",
    "# plt.bar(w.keys(),w.values())\n",
    "# plt.savefig('graph.png')\n",
    "# plt.show()\n",
    "\n",
    "#graph with auto adjustment\n",
    "fig,ax1 = plt.subplots()\n",
    "ax1.bar(w.keys(),w.values())\n",
    "fig.autofmt_xdate()\n",
    "plt.savefig('graph.png')\n",
    "plt.show()"
   ]
  }
 ],
 "metadata": {
  "kernelspec": {
   "display_name": "Python 3",
   "language": "python",
   "name": "python3"
  },
  "language_info": {
   "codemirror_mode": {
    "name": "ipython",
    "version": 3
   },
   "file_extension": ".py",
   "mimetype": "text/x-python",
   "name": "python",
   "nbconvert_exporter": "python",
   "pygments_lexer": "ipython3",
   "version": "3.11.1"
  },
  "orig_nbformat": 4,
  "vscode": {
   "interpreter": {
    "hash": "95c761c754682e02f9527812d2c4395ffc75eb196c6c17be20ed58c164402910"
   }
  }
 },
 "nbformat": 4,
 "nbformat_minor": 2
}
